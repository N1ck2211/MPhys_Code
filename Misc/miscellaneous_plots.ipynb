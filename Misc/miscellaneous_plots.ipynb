{
 "cells": [
  {
   "cell_type": "code",
   "execution_count": null,
   "metadata": {
    "pycharm": {
     "is_executing": true
    }
   },
   "outputs": [],
   "source": [
    "import numpy as np\n",
    "import matplotlib.pyplot as plt\n",
    "import pandas as pd\n",
    "import seaborn as sns"
   ]
  },
  {
   "cell_type": "code",
   "execution_count": null,
   "metadata": {
    "pycharm": {
     "name": "#%%\n"
    }
   },
   "outputs": [],
   "source": [
    "lumi_range = np.arange(10, 110, 10)"
   ]
  },
  {
   "cell_type": "code",
   "execution_count": null,
   "metadata": {},
   "outputs": [],
   "source": [
    "c_and_c = np.array([0.1298, 0.1836, 0.2249, 0.2597, 0.2903, 0.318, 0.3435, 0.3672, 0.3895, 0.4106])\n",
    "bdt = np.array([0.4089, 0.5783, 0.7083, 0.8179, 0.9144, 1.0017, 1.0819, 1.1566, 1.2268, 1.2931])\n",
    "bdt_gc = np.array([0.5009, 0.7084, 0.8676, 1.0018, 1.1201, 1.227,  1.3253, 1.4168, 1.5028, 1.584])\n",
    "mlp = np.array([0.3961, 0.5601, 0.686, 0.7921, 0.8856, 0.9701, 1.0479, 1.1202, 1.1882, 1.2524])\n",
    "mlp_gc = np.array([0.2892, 0.409, 0.501, 0.5785, 0.6468, 0.7085, 0.7652, 0.8181, 0.8677, 0.9146])"
   ]
  },
  {
   "cell_type": "code",
   "execution_count": null,
   "metadata": {},
   "outputs": [],
   "source": [
    "plt.plot(lumi_range, c_and_c, '-o', label='Cut and Count')\n",
    "plt.plot(lumi_range, bdt, '-o', label='BDT')\n",
    "plt.plot(lumi_range, mlp, '-o', label='MLP')\n",
    "plt.plot(lumi_range, bdt_gc, '-o', label='BDT-GC')\n",
    "plt.plot(lumi_range, mlp_gc, '-o', label='MLP-GC')\n",
    "\n",
    "plt.ylabel('Significance, $\\sigma$')\n",
    "plt.xlabel('Integrated Luminosity (ab$^{-1}$)')\n",
    "plt.legend()\n",
    "plt.show()"
   ]
  },
  {
   "cell_type": "markdown",
   "metadata": {},
   "source": [
    "## Time to 3 sigma"
   ]
  },
  {
   "cell_type": "code",
   "execution_count": null,
   "metadata": {},
   "outputs": [],
   "source": [
    "y_axis = np.arange(1, 6, 1)\n",
    "print(y_axis)"
   ]
  },
  {
   "cell_type": "code",
   "execution_count": null,
   "metadata": {},
   "outputs": [],
   "source": [
    "height = np.array([5500, 650, 660, 350, 1100])"
   ]
  },
  {
   "cell_type": "code",
   "execution_count": null,
   "metadata": {},
   "outputs": [],
   "source": [
    "y_labels = np.array(['Cut and Count', 'BDT', 'MLP', 'BDT-GC', 'MLP-GC'])"
   ]
  },
  {
   "cell_type": "code",
   "execution_count": null,
   "metadata": {},
   "outputs": [],
   "source": [
    "lab_len = np.full(len(y_axis), 100)"
   ]
  },
  {
   "cell_type": "code",
   "execution_count": null,
   "metadata": {},
   "outputs": [],
   "source": [
    "colors = ['purple', 'green', 'red', 'orange', 'blue']"
   ]
  },
  {
   "cell_type": "code",
   "execution_count": null,
   "metadata": {},
   "outputs": [],
   "source": [
    "fig, ax = plt.subplots()\n",
    "hbars = ax.barh(y_axis, width=height, xerr=lab_len, align='center', color=sns.color_palette(n_colors=5))\n",
    "ax.set_yticks(y_axis, labels=y_labels)\n",
    "ax.invert_yaxis()\n",
    "ax.set_xlabel('Integrated Luminosity, $ab^{-1}$')\n",
    "ax.bar_label(hbars, fmt='%.2f')\n",
    "ax.set_xlim(right=6500)  "
   ]
  },
  {
   "cell_type": "markdown",
   "metadata": {},
   "source": [
    "## Percentage Change"
   ]
  },
  {
   "cell_type": "code",
   "execution_count": null,
   "metadata": {},
   "outputs": [],
   "source": [
    "data = pd.read_csv('full_data.csv')"
   ]
  },
  {
   "cell_type": "code",
   "execution_count": null,
   "metadata": {},
   "outputs": [],
   "source": [
    "headings = data.columns.to_list()\n",
    "print(len(headings))\n",
    "headings_without_label = headings.pop(19)\n",
    "print(len(headings))\n",
    "headings.append('label')\n",
    "print(headings)"
   ]
  },
  {
   "cell_type": "code",
   "execution_count": null,
   "metadata": {},
   "outputs": [],
   "source": [
    "data = data[headings]"
   ]
  },
  {
   "cell_type": "code",
   "execution_count": null,
   "metadata": {},
   "outputs": [],
   "source": [
    "data"
   ]
  },
  {
   "cell_type": "code",
   "execution_count": null,
   "metadata": {},
   "outputs": [],
   "source": [
    "total_s = 1200000.0\n",
    "total_b = 1599982.0"
   ]
  },
  {
   "cell_type": "code",
   "execution_count": null,
   "metadata": {},
   "outputs": [],
   "source": [
    "cut_flow_s = np.array([1200000.0, 1087360.0,1069750.0,938030.0,518594.0,494726.0,101654.0,90392.0,89914.0,89914.0])\n",
    "cut_flow_b = np.array([1599982.0,552014.0,453186.0,202294.0,87924.0,72004.0,194.0,168.0,160.0,160.0])"
   ]
  },
  {
   "cell_type": "code",
   "execution_count": null,
   "metadata": {},
   "outputs": [],
   "source": [
    "percent_b = np.abs(((cut_flow_b - total_b) / total_b) * 100)\n",
    "percent_b"
   ]
  },
  {
   "cell_type": "code",
   "execution_count": null,
   "metadata": {},
   "outputs": [],
   "source": [
    "percent_s = np.abs(((cut_flow_s - total_s) / total_s) * 100)\n",
    "len(percent_s)"
   ]
  },
  {
   "cell_type": "code",
   "execution_count": null,
   "metadata": {},
   "outputs": [],
   "source": [
    "full = np.full(len(percent_b), 100)"
   ]
  },
  {
   "cell_type": "code",
   "execution_count": null,
   "metadata": {},
   "outputs": [],
   "source": [
    "change_s = full - percent_s\n",
    "change_b = full - percent_b"
   ]
  },
  {
   "cell_type": "code",
   "execution_count": null,
   "metadata": {},
   "outputs": [],
   "source": [
    "x_axis_labels = ['All_events', '$n_{C.Had}^{j_1}, n_{C.Had}^{j_2}$', '$n_{tot}^{j_1}, n_{tot}^{j_2}$',\n",
    "                 '$p^{j_1}, p^{j_2}$','$pt^{j_1}, pt^{j_2}$', '$e^{j_1}, e^{j_2}$', '$p(g)^{jj}$',\n",
    "                 '$m^{j_1}, m^{j_2}$', '$m^{jj}$', '$\\eta^{j_1}, \\eta^{j_2}$']"
   ]
  },
  {
   "cell_type": "code",
   "execution_count": null,
   "metadata": {},
   "outputs": [],
   "source": [
    "x_axis = np.arange(0, len(percent_b), 1)\n",
    "x_axis"
   ]
  },
  {
   "cell_type": "code",
   "execution_count": null,
   "metadata": {},
   "outputs": [],
   "source": [
    "sns.set_theme(style='ticks', palette='dark')"
   ]
  },
  {
   "cell_type": "code",
   "execution_count": null,
   "metadata": {},
   "outputs": [],
   "source": [
    "fig, ax = plt.subplots()\n",
    "ax.bar(x_axis, change_s, width=1.0, align='edge', label='Signal')\n",
    "ax.bar(x_axis, change_b, width=1.0, align='edge', label='Background')\n",
    "ax.set_xticks(x_axis, labels=x_axis_labels)\n",
    "\n",
    "plt.setp(ax.get_xticklabels(), rotation=45, ha=\"right\",\n",
    "         rotation_mode=\"anchor\")\n",
    "plt.ylabel('Percentage of Orginal Sample', fontsize=14)\n",
    "plt.legend()\n",
    "plt.show()"
   ]
  },
  {
   "cell_type": "code",
   "execution_count": null,
   "metadata": {},
   "outputs": [],
   "source": []
  },
  {
   "cell_type": "code",
   "execution_count": null,
   "metadata": {},
   "outputs": [],
   "source": []
  }
 ],
 "metadata": {
  "kernelspec": {
   "display_name": "Python 3 (ipykernel)",
   "language": "python",
   "name": "python3"
  },
  "language_info": {
   "codemirror_mode": {
    "name": "ipython",
    "version": 3
   },
   "file_extension": ".py",
   "mimetype": "text/x-python",
   "name": "python",
   "nbconvert_exporter": "python",
   "pygments_lexer": "ipython3",
   "version": "3.7.4"
  }
 },
 "nbformat": 4,
 "nbformat_minor": 1
}
