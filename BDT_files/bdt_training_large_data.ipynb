{
 "cells": [
  {
   "cell_type": "code",
   "execution_count": null,
   "metadata": {
    "pycharm": {
     "name": "#%%\n"
    },
    "scrolled": false
   },
   "outputs": [],
   "source": [
    "# %pip install graphviz"
   ]
  },
  {
   "cell_type": "code",
   "execution_count": null,
   "metadata": {
    "pycharm": {
     "is_executing": true,
     "name": "#%%\n"
    },
    "scrolled": false
   },
   "outputs": [],
   "source": [
    "import pandas as pd\n",
    "import numpy as np\n",
    "import matplotlib.pyplot as plt\n",
    "import xgboost as xgb\n",
    "import os\n",
    "from xgboost import XGBClassifier\n",
    "\n",
    "from sklearn.model_selection import RandomizedSearchCV, train_test_split\n",
    "\n",
    "%matplotlib inline"
   ]
  },
  {
   "cell_type": "code",
   "execution_count": null,
   "metadata": {
    "pycharm": {
     "name": "#%%\n"
    },
    "scrolled": false
   },
   "outputs": [],
   "source": [
    "data = pd.read_csv('full_data.csv')"
   ]
  },
  {
   "cell_type": "markdown",
   "metadata": {
    "pycharm": {
     "name": "#%% md\n"
    }
   },
   "source": [
    "## Looking at the raw data:"
   ]
  },
  {
   "cell_type": "code",
   "execution_count": null,
   "metadata": {
    "pycharm": {
     "name": "#%%\n"
    },
    "scrolled": false
   },
   "outputs": [],
   "source": [
    "print('Size of data: {}'.format(data.shape))\n",
    "print('Number of events: {}'.format(data.shape[0]))\n",
    "print('Number of columns: {}'.format(data.shape[1]))\n",
    "\n",
    "print ('\\nList of features in dataset:')\n",
    "for col in data.columns:\n",
    "    print(col)"
   ]
  },
  {
   "cell_type": "code",
   "execution_count": null,
   "metadata": {
    "scrolled": false
   },
   "outputs": [],
   "source": [
    "headings = data.columns.to_list()\n",
    "print(len(headings))\n",
    "headings_without_label = headings.pop(19)\n",
    "print(len(headings))\n",
    "headings.append('label')\n",
    "print(headings)"
   ]
  },
  {
   "cell_type": "code",
   "execution_count": null,
   "metadata": {
    "pycharm": {
     "is_executing": true
    },
    "scrolled": false
   },
   "outputs": [],
   "source": [
    "data = data[headings]"
   ]
  },
  {
   "cell_type": "code",
   "execution_count": null,
   "metadata": {
    "scrolled": false
   },
   "outputs": [],
   "source": [
    "data"
   ]
  },
  {
   "cell_type": "code",
   "execution_count": null,
   "metadata": {
    "scrolled": false
   },
   "outputs": [],
   "source": [
    "# data.drop(columns=data.columns[0], axis=1,  inplace=True)"
   ]
  },
  {
   "cell_type": "code",
   "execution_count": null,
   "metadata": {
    "scrolled": false
   },
   "outputs": [],
   "source": [
    "# data.head()"
   ]
  },
  {
   "cell_type": "code",
   "execution_count": null,
   "metadata": {
    "scrolled": false
   },
   "outputs": [],
   "source": [
    "# data.to_csv('full_data.csv')"
   ]
  },
  {
   "cell_type": "code",
   "execution_count": null,
   "metadata": {
    "pycharm": {
     "name": "#%%\n"
    },
    "scrolled": false
   },
   "outputs": [],
   "source": [
    "print('Number of signal events: {}'.format(len(data[data.label == 1])))\n",
    "print('Number of background events: {}'.format(len(data[data.label == 0])))\n",
    "sig_frac = len(data[data.label == 1])/(float)(len(data[data.label == 1]) + len(data[data.label == 0]))\n",
    "print('Fraction signal: {}'.format(sig_frac))"
   ]
  },
  {
   "cell_type": "markdown",
   "metadata": {},
   "source": [
    "## Data Observation"
   ]
  },
  {
   "cell_type": "code",
   "execution_count": null,
   "metadata": {
    "scrolled": false
   },
   "outputs": [],
   "source": [
    "plt.figure()\n",
    "plt.hist(data.scoresum_g[data.label == 1],bins=np.linspace(0, 2, 100),\n",
    "         histtype='step',color='midnightblue',label='signal')\n",
    "plt.hist(data.scoresum_g[data.label == 0],bins=np.linspace(0, 2, 100),\n",
    "         histtype='step',color='firebrick',label='background')\n",
    "\n",
    "plt.xlabel('feature',fontsize=12)\n",
    "plt.ylabel('Events',fontsize=12)\n",
    "plt.legend(frameon=False)"
   ]
  },
  {
   "cell_type": "code",
   "execution_count": null,
   "metadata": {
    "scrolled": false
   },
   "outputs": [],
   "source": [
    "signal, sig_bins = np.histogram(data.scoresum_g[data.label == 1],bins=np.linspace(0, 2, 100))\n",
    "bkgrnd, back_bins = np.histogram(data.scoresum_g[data.label == 0],bins=np.linspace(0, 2, 100))\n",
    "\n",
    "sig_sf = 10 * 7.38400e-05\n",
    "back_sf = (10 * 363) / 1.333318333\n",
    "\n",
    "plt.hist(sig_bins[:-1], sig_bins, weights=sig_sf*signal, histtype='step',color='midnightblue',label='signal')\n",
    "plt.hist(back_bins[:-1], back_bins, weights=back_sf*bkgrnd, histtype='step',color='firebrick',label='background')\n",
    "\n",
    "plt.yscale('log')\n",
    "plt.xlabel('Feature',fontsize=12)\n",
    "plt.ylabel('Events',fontsize=12)\n",
    "plt.legend(frameon=False)\n",
    "plt.show()"
   ]
  },
  {
   "cell_type": "markdown",
   "metadata": {
    "pycharm": {
     "name": "#%% md\n"
    }
   },
   "source": [
    "## Formatting the data for use with XGBoost"
   ]
  },
  {
   "cell_type": "code",
   "execution_count": null,
   "metadata": {
    "pycharm": {
     "name": "#%%\n"
    },
    "scrolled": false
   },
   "outputs": [],
   "source": [
    "shuf_data = data.sample(frac=1)"
   ]
  },
  {
   "cell_type": "code",
   "execution_count": null,
   "metadata": {
    "pycharm": {
     "name": "#%%\n"
    },
    "scrolled": false
   },
   "outputs": [],
   "source": [
    "shuf_data['label'] = data.label.astype('category')"
   ]
  },
  {
   "cell_type": "markdown",
   "metadata": {},
   "source": [
    "Taking 70% data for training, 15% for validation, 15% for test "
   ]
  },
  {
   "cell_type": "code",
   "execution_count": null,
   "metadata": {
    "scrolled": false
   },
   "outputs": [],
   "source": [
    "no_events = shuf_data.shape[0]\n",
    "no_training = int(0.7 * no_events)\n",
    "no_val = int(no_training + (0.15 * no_events))\n",
    "\n",
    "training_set = shuf_data[:no_training]\n",
    "validation_set = shuf_data[no_training:no_val]\n",
    "test_set = shuf_data[no_val:]"
   ]
  },
  {
   "cell_type": "code",
   "execution_count": null,
   "metadata": {
    "scrolled": false
   },
   "outputs": [],
   "source": [
    "print('Number of training samples: {}'.format(len(training_set)))\n",
    "print('Number of validation samples: {}'.format(len(validation_set)))\n",
    "print('Number of testing samples: {}'.format(len(test_set)))\n",
    "\n",
    "print('\\nNumber of signal events in training set: {}'.format(len(training_set[training_set.label == 1])))\n",
    "print('Number of background events in training set: {}'.format(len(training_set[training_set.label == 0])))\n",
    "print('Fraction signal: {}'.format(len(training_set[training_set.label == 1])/(float)(len(training_set[training_set.label == 1]) + len(training_set[training_set.label == 0]))))"
   ]
  },
  {
   "cell_type": "code",
   "execution_count": null,
   "metadata": {
    "pycharm": {
     "name": "#%%\n"
    },
    "scrolled": false
   },
   "outputs": [],
   "source": [
    "# training_set.label.cat.codes\n",
    "# print(training_set.label.cat.codes)"
   ]
  },
  {
   "cell_type": "markdown",
   "metadata": {
    "pycharm": {
     "name": "#%% md\n"
    }
   },
   "source": [
    "## Creating DMatrix"
   ]
  },
  {
   "cell_type": "code",
   "execution_count": null,
   "metadata": {},
   "outputs": [],
   "source": [
    "feature_names = data.columns[0:-1]  # skip the final collumn as it is the label\n",
    "feature_names = feature_names.to_numpy()\n",
    "feature_names = feature_names.astype(str)"
   ]
  },
  {
   "cell_type": "code",
   "execution_count": null,
   "metadata": {
    "scrolled": false
   },
   "outputs": [],
   "source": [
    "train = xgb.DMatrix(data=training_set[feature_names],label=training_set.label.cat.codes,\n",
    "                    missing=-999.0,feature_names=feature_names)\n",
    "validation = xgb.DMatrix(data=validation_set[feature_names], label=validation_set.label.cat.codes,\n",
    "                         missing=-999.0, feature_names=feature_names)\n",
    "test = xgb.DMatrix(data=test_set[feature_names],label=test_set.label.cat.codes,\n",
    "                   missing=-999.0,feature_names=feature_names)"
   ]
  },
  {
   "cell_type": "code",
   "execution_count": null,
   "metadata": {
    "pycharm": {
     "name": "#%%\n"
    },
    "scrolled": false
   },
   "outputs": [],
   "source": [
    "print('Number of training samples: {}'.format(train.num_row()))\n",
    "print('Number of validation samples: {}'.format(validation.num_row()))\n",
    "print('Number of testing samples: {}'.format(test.num_row()))\n",
    "\n",
    "print('\\nNumber of signal events in training set: {}'.format(len(np.where(train.get_label())[0])))"
   ]
  },
  {
   "cell_type": "markdown",
   "metadata": {
    "pycharm": {
     "name": "#%% md\n"
    }
   },
   "source": [
    "## Hyperparameters"
   ]
  },
  {
   "cell_type": "markdown",
   "metadata": {},
   "source": [
    "## Evaluating Hyperparmameters"
   ]
  },
  {
   "cell_type": "code",
   "execution_count": null,
   "metadata": {
    "pycharm": {
     "name": "#%%\n"
    },
    "scrolled": false
   },
   "outputs": [],
   "source": [
    "eta_range = np.arange(0.1, 1.0, 0.1)\n",
    "max_depth_range = np.arange(2, 11, 1)\n",
    "min_child_range = np.arange(0, 5.1, 0.1)\n",
    "subsample_range = np.arange(0.1, 1.1, 0.1)\n",
    "colsample_range = np.arange(0.1, 1.1, 0.1)\n",
    "lambda_range = np.arange(0, 10.25, 0.25)\n",
    "gamma_range = np.arange(0, 5.1, 0.1)\n",
    "delta_range = np.arange(0, 11, 1)\n",
    "\n",
    "rmse_outputs = np.zeros(len(gamma_range))\n",
    "\n",
    "no_params = len(eta_range) * len(max_depth_range) * len(min_child_range) * len(subsample_range) * len(colsample_range) * len(lambda_range) * len(gamma_range)\n",
    "\n",
    "print(no_params)"
   ]
  },
  {
   "cell_type": "markdown",
   "metadata": {},
   "source": [
    "## Random Hyperparameter Search"
   ]
  },
  {
   "cell_type": "code",
   "execution_count": null,
   "metadata": {
    "scrolled": false
   },
   "outputs": [],
   "source": [
    "params = {\n",
    "    'eta':eta_range,\n",
    "    'max_depth':max_depth_range, \n",
    "    'gamma':gamma_range,  \n",
    "    'subsample':subsample_range,\n",
    "    'min_child_weight':min_child_range,\n",
    "    'colsample_bytree':colsample_range, \n",
    "    'colsample_bylevel':colsample_range, \n",
    "    'colsample_bynode':colsample_range, \n",
    "    'max_delta_step':delta_range,\n",
    "    'objective': ['binary:logistic'],\n",
    "    'eval_metric': ['rmse'],\n",
    "    'lambda':lambda_range,\n",
    "}"
   ]
  },
  {
   "cell_type": "code",
   "execution_count": null,
   "metadata": {
    "scrolled": false
   },
   "outputs": [],
   "source": [
    "cla = XGBClassifier()"
   ]
  },
  {
   "cell_type": "code",
   "execution_count": null,
   "metadata": {
    "scrolled": false
   },
   "outputs": [],
   "source": [
    "# train test split with randomization performed (although randomization is not necessary)\n",
    "hyperparam_X, hyperparam_y = shuf_data[:no_val].iloc[:,:-1], shuf_data[:no_val].label"
   ]
  },
  {
   "cell_type": "code",
   "execution_count": null,
   "metadata": {
    "scrolled": false
   },
   "outputs": [],
   "source": [
    "random_search = RandomizedSearchCV(cla, param_distributions=params, n_iter=500, cv=3, verbose=3)"
   ]
  },
  {
   "cell_type": "code",
   "execution_count": null,
   "metadata": {
    "scrolled": false
   },
   "outputs": [],
   "source": [
    "random_search.fit(hyperparam_X, hyperparam_y)\n",
    "os.system(\"say bing bong\")"
   ]
  },
  {
   "cell_type": "code",
   "execution_count": null,
   "metadata": {
    "scrolled": false
   },
   "outputs": [],
   "source": [
    "hyper_res = random_search.cv_results_\n",
    "mean_score = hyper_res['mean_test_score']\n",
    "err = hyper_res['std_test_score']\n",
    "x_arr = np.arange(1, 101, 1)\n",
    "# hyper_res"
   ]
  },
  {
   "cell_type": "code",
   "execution_count": null,
   "metadata": {
    "scrolled": false
   },
   "outputs": [],
   "source": [
    "plt.plot(x_arr, mean_score)\n",
    "plt.xlabel('iteration')\n",
    "plt.ylabel('score')"
   ]
  },
  {
   "cell_type": "markdown",
   "metadata": {
    "pycharm": {
     "name": "#%% md\n"
    }
   },
   "source": [
    "# Training"
   ]
  },
  {
   "cell_type": "markdown",
   "metadata": {},
   "source": [
    "## Default Parameters"
   ]
  },
  {
   "cell_type": "code",
   "execution_count": null,
   "metadata": {
    "scrolled": false
   },
   "outputs": [],
   "source": [
    "param = {}\n",
    "\n",
    "# Booster parameters\n",
    "param['eta']              = 0.3 # learning rate\n",
    "param['max_depth']        = 6  # maximum depth of a tree\n",
    "param['subsample']        = 1 # fraction of events to train tree on\n",
    "param['min_child_weight'] = 1\n",
    "param['colsample_bytree'] = 1 # fraction of features to train tree on\n",
    "\n",
    "# Learning task parameters\n",
    "param['objective']   = 'binary:logistic' # objective function\n",
    "param['eval_metric'] = 'error'           # evaluation metric for cross validation\n",
    "param = list(param.items()) + [('eval_metric', 'logloss')] + [('eval_metric', 'rmse')]\n",
    "\n",
    "num_trees = 600  # number of trees to make"
   ]
  },
  {
   "cell_type": "markdown",
   "metadata": {},
   "source": [
    "## Parameters from random search"
   ]
  },
  {
   "cell_type": "code",
   "execution_count": null,
   "metadata": {
    "scrolled": false
   },
   "outputs": [],
   "source": [
    "hyper_params = random_search.best_params_\n",
    "# hyper_params = list(hyper_params.items()) + [('eval_metric', 'logloss')] + [('eval_metric', 'error')] + [('eval_metric', 'auc')]\n",
    "hyper_params"
   ]
  },
  {
   "cell_type": "code",
   "execution_count": null,
   "metadata": {
    "scrolled": false
   },
   "outputs": [],
   "source": [
    "param = {}\n",
    "\n",
    "# Booster parameters\n",
    "param['eta']              = 0.2   # learning rate\n",
    "param['min_child_weight'] = 4.4\n",
    "param['max_depth']        = 10     # maximum depth of a tree\n",
    "param['max_delta_step']   = 8\n",
    "param['subsample']        = 0.8   # fraction of events to train tree on\n",
    "param['colsample_bytree'] = 0.9   # fraction of features to train tree on\n",
    "param['colsample_bynode'] = 0.8   # fraction of features to train tree on\n",
    "param['colsample_bylevel'] = 0.7  # fraction of features to train tree on\n",
    "param['gamma'] = 1.4\n",
    "\n",
    "# L2 regularization\n",
    "param['lambda'] = 9.0\n",
    "\n",
    "# Learning task parameters\n",
    "param['objective']   = 'binary:logistic' # objective function\n",
    "param['eval_metric'] = 'error'           # evaluation metric for cross validation\n",
    "param = list(param.items()) + [('eval_metric', 'logloss')] + [('eval_metric', 'rmse')] + [('eval_metric', 'auc')]\n",
    "\n",
    "num_trees = 600  # number of trees to make"
   ]
  },
  {
   "cell_type": "markdown",
   "metadata": {},
   "source": [
    "## Training Model"
   ]
  },
  {
   "cell_type": "code",
   "execution_count": null,
   "metadata": {
    "pycharm": {
     "is_executing": true,
     "name": "#%%\n"
    },
    "scrolled": false
   },
   "outputs": [],
   "source": [
    "booster = xgb.train(param, train,  num_boost_round=num_trees, evals=[(validation, 'val')], early_stopping_rounds=10)\n",
    "os.system(\"say beep\")"
   ]
  },
  {
   "cell_type": "code",
   "execution_count": null,
   "metadata": {
    "pycharm": {
     "name": "#%%\n"
    },
    "scrolled": false
   },
   "outputs": [],
   "source": [
    "print(booster.eval(test))"
   ]
  },
  {
   "cell_type": "code",
   "execution_count": null,
   "metadata": {
    "pycharm": {
     "name": "#%%\n"
    },
    "scrolled": false
   },
   "outputs": [],
   "source": [
    "predictions = booster.predict(test)"
   ]
  },
  {
   "cell_type": "code",
   "execution_count": null,
   "metadata": {
    "pycharm": {
     "name": "#%%\n"
    },
    "scrolled": false
   },
   "outputs": [],
   "source": [
    "att = booster.attributes()\n",
    "att"
   ]
  },
  {
   "cell_type": "code",
   "execution_count": null,
   "metadata": {
    "pycharm": {
     "name": "#%%\n"
    },
    "scrolled": false
   },
   "outputs": [],
   "source": [
    "# booster_df = booster.trees_to_dataframe()"
   ]
  },
  {
   "cell_type": "code",
   "execution_count": null,
   "metadata": {
    "pycharm": {
     "name": "#%%\n"
    },
    "scrolled": false
   },
   "outputs": [],
   "source": [
    "best_tree = booster.best_iteration"
   ]
  },
  {
   "cell_type": "code",
   "execution_count": null,
   "metadata": {
    "pycharm": {
     "name": "#%%\n"
    },
    "scrolled": false
   },
   "outputs": [],
   "source": [
    "print(best_tree)"
   ]
  },
  {
   "cell_type": "code",
   "execution_count": null,
   "metadata": {
    "pycharm": {
     "name": "#%%\n"
    },
    "scrolled": false
   },
   "outputs": [],
   "source": [
    "# selected_feature_df = booster_df[booster_df['Feature'] == 'jj_m']"
   ]
  },
  {
   "cell_type": "code",
   "execution_count": null,
   "metadata": {
    "pycharm": {
     "name": "#%%\n"
    },
    "scrolled": false
   },
   "outputs": [],
   "source": [
    "# selected_feature_df[selected_feature_df['Tree'] == 999]"
   ]
  },
  {
   "cell_type": "code",
   "execution_count": null,
   "metadata": {
    "pycharm": {
     "is_executing": true,
     "name": "#%%\n"
    },
    "scrolled": false
   },
   "outputs": [],
   "source": [
    "# plot all predictions (both signal and background)\n",
    "plt.figure()\n",
    "plt.hist(predictions,bins=np.linspace(0,1,50),histtype='step',color='darkgreen',label='All events')\n",
    "# make the plot readable\n",
    "plt.xlabel('Prediction from BDT',fontsize=12)\n",
    "plt.ylabel('Events',fontsize=12)\n",
    "plt.legend(frameon=False)\n",
    "\n"
   ]
  },
  {
   "cell_type": "code",
   "execution_count": null,
   "metadata": {},
   "outputs": [],
   "source": [
    "# plot signal and background separately\n",
    "plt.figure()\n",
    "plt.hist(predictions[test.get_label().astype(bool)],bins=np.linspace(0,1,50),\n",
    "         histtype='step',color='midnightblue',label='signal')\n",
    "plt.hist(predictions[~(test.get_label().astype(bool))],bins=np.linspace(0,1,50),\n",
    "         histtype='step',color='firebrick',label='background')\n",
    "# make the plot readable\n",
    "plt.xlabel('Prediction from BDT',fontsize=12)\n",
    "plt.ylabel('Events',fontsize=12)\n",
    "plt.legend(frameon=False)"
   ]
  },
  {
   "cell_type": "code",
   "execution_count": null,
   "metadata": {},
   "outputs": [],
   "source": [
    "frac = 799991 / 600000\n",
    "799991 / frac"
   ]
  },
  {
   "cell_type": "code",
   "execution_count": null,
   "metadata": {
    "scrolled": false
   },
   "outputs": [],
   "source": [
    "signal, sig_bins = np.histogram(predictions[test.get_label().astype(bool)],bins=np.linspace(0,1,50))\n",
    "bkgrnd, back_bins = np.histogram(predictions[~(test.get_label().astype(bool))],bins=np.linspace(0,1,50))\n",
    "\n",
    "sig_sf =  10 * 0.00123066835\n",
    "back_sf = (10 * 4538.75) / frac\n",
    "\n",
    "plt.hist(sig_bins[:-1], sig_bins, weights=sig_sf*signal, histtype='step',color='midnightblue',label='signal')\n",
    "plt.hist(back_bins[:-1], back_bins, weights=back_sf*bkgrnd, histtype='step',color='firebrick',label='background')\n",
    "\n",
    "plt.yscale('log')\n",
    "plt.xlabel('Prediction from BDT',fontsize=12)\n",
    "plt.ylabel('Events',fontsize=12)\n",
    "plt.legend(frameon=False)\n",
    "plt.show()"
   ]
  },
  {
   "cell_type": "code",
   "execution_count": null,
   "metadata": {},
   "outputs": [],
   "source": [
    "corr_signal = np.sum(signal[int(len(signal))-1:])\n",
    "wrong_background = np.sum(bkgrnd[int(len(signal))-1:])\n",
    "\n",
    "print(f'unscaled signal: {corr_signal}')\n",
    "print(f'unscaled background {wrong_background}')\n",
    "print()\n",
    "\n",
    "lumi = 10\n",
    "\n",
    "no_s = corr_signal * 0.00123066835 * lumi\n",
    "no_b = (wrong_background * 4538.75 * lumi) / frac\n",
    "significance = no_s / np.sqrt(no_s + no_b)\n",
    "\n",
    "print(f'S: {no_s}')\n",
    "print(f'B: {no_b}')\n",
    "print(f'Significance={round(significance, 4)}')\n",
    "# print(no_s / np.sqrt(no_s + no_b))"
   ]
  },
  {
   "cell_type": "code",
   "execution_count": null,
   "metadata": {},
   "outputs": [],
   "source": [
    "full_class_pred = (booster.predict(test) > 0.98).astype(int)"
   ]
  },
  {
   "cell_type": "code",
   "execution_count": null,
   "metadata": {},
   "outputs": [],
   "source": [
    "plt.figure()\n",
    "plt.hist(full_class_pred[test.get_label().astype(bool)],bins=np.linspace(0,1,50),\n",
    "         histtype='step',color='midnightblue',label='signal')\n",
    "plt.hist(full_class_pred[~(test.get_label().astype(bool))],bins=np.linspace(0,1,50),\n",
    "         histtype='step',color='firebrick',label='background')\n",
    "# make the plot readable\n",
    "plt.xlabel('Prediction from BDT',fontsize=12)\n",
    "plt.ylabel('Events',fontsize=12)\n",
    "plt.legend(frameon=False)"
   ]
  },
  {
   "cell_type": "code",
   "execution_count": null,
   "metadata": {},
   "outputs": [],
   "source": [
    "signal, sig_bins = np.histogram(full_class_pred[test.get_label().astype(bool)],bins=np.linspace(0,1,50))\n",
    "bkgrnd, back_bins = np.histogram(full_class_pred[~(test.get_label().astype(bool))],bins=np.linspace(0,1,50))\n",
    "\n",
    "sig_sf =  10 * 0.00123066835\n",
    "back_sf = (10 * 4538.75) / frac\n",
    "\n",
    "plt.hist(sig_bins[:-1], sig_bins, weights=sig_sf*signal, histtype='step',color='midnightblue',label='signal')\n",
    "plt.hist(back_bins[:-1], back_bins, weights=back_sf*bkgrnd, histtype='step',color='firebrick',label='background')\n",
    "\n",
    "plt.yscale('log')\n",
    "plt.xlabel('Prediction from BDT',fontsize=12)\n",
    "plt.ylabel('Events',fontsize=12)\n",
    "plt.legend(frameon=False)\n",
    "plt.show()"
   ]
  },
  {
   "cell_type": "code",
   "execution_count": null,
   "metadata": {},
   "outputs": [],
   "source": [
    "# corr_signal = np.sum(signal[int(len(signal))-1:])\n",
    "# wrong_background = np.sum(bkgrnd[int(len(signal))-1:])\n",
    "\n",
    "corr_signal = 79374\n",
    "wrong_background = 200\n",
    "\n",
    "print(f'unscaled signal: {corr_signal}')\n",
    "print(f'unscaled background {wrong_background}')\n",
    "print()\n",
    "\n",
    "lumi = 10\n",
    "\n",
    "no_s = corr_signal * 0.00123066835 * lumi\n",
    "no_b = (wrong_background * 4538.75 * lumi) / frac\n",
    "significance = no_s / np.sqrt(no_s + no_b)\n",
    "\n",
    "print(f'S: {no_s}')\n",
    "print(f'B: {no_b}')\n",
    "print(f'Significance={round(significance, 4)}')"
   ]
  },
  {
   "cell_type": "code",
   "execution_count": null,
   "metadata": {
    "pycharm": {
     "name": "#%%\n"
    },
    "scrolled": false
   },
   "outputs": [],
   "source": [
    "# choose score cuts:\n",
    "cuts = np.linspace(0,1,500)\n",
    "nsignal = np.zeros(len(cuts))\n",
    "nbackground = np.zeros(len(cuts))\n",
    "for i,cut in enumerate(cuts):\n",
    "    nsignal[i] = len(np.where(predictions[test.get_label().astype(bool)] > cut)[0])\n",
    "    nbackground[i] = len(np.where(predictions[~(test.get_label().astype(bool))] > cut)[0])\n",
    "\n",
    "# plot efficiency vs. purity (ROC curve)\n",
    "plt.figure()\n",
    "plt.plot(nsignal/len(test_set[test_set.label == 1]),nsignal/(nsignal + nbackground),'o-',color='blueviolet')\n",
    "# make the plot readable\n",
    "plt.xlabel('Efficiency',fontsize=12)\n",
    "plt.ylabel('Purity',fontsize=12)"
   ]
  },
  {
   "cell_type": "code",
   "execution_count": null,
   "metadata": {
    "pycharm": {
     "name": "#%%\n"
    },
    "scrolled": false
   },
   "outputs": [],
   "source": [
    "# Zoom in view of the upper left corner.\n",
    "plt.figure()\n",
    "plt.xlim(0.85, 1.0)\n",
    "plt.ylim(0.85, 1.0)\n",
    "# plt.plot([0, 1], [0, 1], 'k--')\n",
    "plt.plot(nsignal/len(test_set[test_set.label == 1]),nsignal/(nsignal + nbackground),'o-',color='blueviolet')\n",
    "plt.xlabel('Efficiency',fontsize=12)\n",
    "plt.ylabel('Purity',fontsize=12)\n",
    "# plt.title('ROC curve (zoomed in at top right)')\n",
    "plt.show()"
   ]
  },
  {
   "cell_type": "code",
   "execution_count": null,
   "metadata": {
    "pycharm": {
     "name": "#%%\n"
    },
    "scrolled": false
   },
   "outputs": [],
   "source": [
    "xgb.plot_importance(booster,grid=False)"
   ]
  },
  {
   "cell_type": "code",
   "execution_count": null,
   "metadata": {},
   "outputs": [],
   "source": [
    "# dump model\n",
    "# booster.dump_model('dump.raw.txt')"
   ]
  },
  {
   "cell_type": "markdown",
   "metadata": {},
   "source": [
    "## Apply to filtered test set"
   ]
  },
  {
   "cell_type": "code",
   "execution_count": null,
   "metadata": {},
   "outputs": [],
   "source": [
    "test_glu = test_set[test_set.scoresum_g > 1.7]"
   ]
  },
  {
   "cell_type": "code",
   "execution_count": null,
   "metadata": {},
   "outputs": [],
   "source": [
    "print(len(test_glu))"
   ]
  },
  {
   "cell_type": "code",
   "execution_count": null,
   "metadata": {},
   "outputs": [],
   "source": [
    "glu_matrix = xgb.DMatrix(data=test_glu[feature_names],label=test_glu.label.cat.codes,\n",
    "                    missing=-999.0,feature_names=feature_names)"
   ]
  },
  {
   "cell_type": "code",
   "execution_count": null,
   "metadata": {},
   "outputs": [],
   "source": [
    "print('\\nNumber of signal events in gluon set: {}'.format(len(np.where(glu_matrix.get_label())[0])))"
   ]
  },
  {
   "cell_type": "code",
   "execution_count": null,
   "metadata": {},
   "outputs": [],
   "source": [
    "glu_predictions = booster.predict(glu_matrix)"
   ]
  },
  {
   "cell_type": "code",
   "execution_count": null,
   "metadata": {},
   "outputs": [],
   "source": [
    "plt.figure()\n",
    "plt.hist(glu_predictions,bins=np.linspace(0,1,50),histtype='step',color='darkgreen',label='All events')\n",
    "# make the plot readable\n",
    "plt.xlabel('Prediction from BDT',fontsize=12)\n",
    "plt.ylabel('Events',fontsize=12)\n",
    "plt.legend(frameon=False)"
   ]
  },
  {
   "cell_type": "code",
   "execution_count": null,
   "metadata": {},
   "outputs": [],
   "source": [
    "plt.figure()\n",
    "plt.hist(glu_predictions[glu_matrix.get_label().astype(bool)],bins=np.linspace(0,1,50),\n",
    "         histtype='step',color='midnightblue',label='signal')\n",
    "plt.hist(glu_predictions[~(glu_matrix.get_label().astype(bool))],bins=np.linspace(0,1,50),\n",
    "         histtype='step',color='firebrick',label='background')\n",
    "# make the plot readable\n",
    "plt.xlabel('Prediction from BDT',fontsize=12)\n",
    "plt.ylabel('Events',fontsize=12)\n",
    "plt.legend(frameon=False)"
   ]
  },
  {
   "cell_type": "code",
   "execution_count": null,
   "metadata": {},
   "outputs": [],
   "source": [
    "glu_signal, glu_sig_bins = np.histogram(glu_predictions[glu_matrix.get_label().astype(bool)],bins=np.linspace(0,1,50))\n",
    "glu_bkgrnd, glu_back_bins = np.histogram(glu_predictions[~(glu_matrix.get_label().astype(bool))],bins=np.linspace(0,1,50))\n",
    "\n",
    "sig_sf =  10 * 0.00123066835\n",
    "back_sf = (10 * 4538.75) / frac\n",
    "\n",
    "plt.hist(glu_sig_bins[:-1], glu_sig_bins, weights=sig_sf*glu_signal, histtype='step',\n",
    "         color='midnightblue',label='signal')\n",
    "\n",
    "plt.hist(glu_back_bins[:-1], glu_back_bins, weights=back_sf*glu_bkgrnd, histtype='step',\n",
    "         color='firebrick',label='background')\n",
    "\n",
    "plt.yscale('log')\n",
    "plt.xlabel('Prediction from BDT',fontsize=12)\n",
    "plt.ylabel('Events',fontsize=12)\n",
    "plt.legend(frameon=False)\n",
    "plt.show()"
   ]
  },
  {
   "cell_type": "code",
   "execution_count": null,
   "metadata": {},
   "outputs": [],
   "source": [
    "# corr_signal_glu = np.sum(glu_signal[int(len(signal))-1:])\n",
    "# wrong_background_glu = np.sum(glu_bkgrnd[int(len(signal))-1:])\n",
    "\n",
    "corr_signal_glu = 7520\n",
    "wrong_background_glu = 1\n",
    "\n",
    "print(f'unscaled signal: {corr_signal_glu}')\n",
    "print(f'unscaled background {wrong_background_glu}')\n",
    "print()\n",
    "\n",
    "lumi = 100\n",
    "\n",
    "no_s_glu = corr_signal_glu * 0.00123066835 * lumi\n",
    "no_b_glu = (wrong_background_glu * 4538.75 * lumi) / frac\n",
    "significance = no_s_glu / np.sqrt(no_s_glu + no_b_glu)\n",
    "\n",
    "print(f'S: {no_s_glu}')\n",
    "print(f'B: {no_b_glu}')\n",
    "print(f'Significance={round(significance, 4)}')"
   ]
  },
  {
   "cell_type": "code",
   "execution_count": null,
   "metadata": {},
   "outputs": [],
   "source": [
    "class_predictions = (booster.predict(glu_matrix) > 0.98).astype(int)"
   ]
  },
  {
   "cell_type": "code",
   "execution_count": null,
   "metadata": {},
   "outputs": [],
   "source": [
    "plt.figure()\n",
    "plt.hist(class_predictions[glu_matrix.get_label().astype(bool)],bins=np.linspace(0,1,50),\n",
    "         histtype='step',color='midnightblue',label='signal')\n",
    "plt.hist(class_predictions[~(glu_matrix.get_label().astype(bool))],bins=np.linspace(0,1,50),\n",
    "         histtype='step',color='firebrick',label='background')\n",
    "# make the plot readable\n",
    "plt.xlabel('Prediction from BDT',fontsize=12)\n",
    "plt.ylabel('Events',fontsize=12)\n",
    "plt.legend(frameon=False)"
   ]
  },
  {
   "cell_type": "code",
   "execution_count": null,
   "metadata": {},
   "outputs": [],
   "source": [
    "glu_signal, glu_sig_bins = np.histogram(class_predictions[glu_matrix.get_label().astype(bool)],bins=np.linspace(0,1,50))\n",
    "glu_bkgrnd, glu_back_bins = np.histogram(class_predictions[~(glu_matrix.get_label().astype(bool))],bins=np.linspace(0,1,50))\n",
    "\n",
    "sig_sf =  10 * 0.00123066835\n",
    "back_sf = (10 * 4538.75) / frac\n",
    "\n",
    "plt.hist(glu_sig_bins[:-1], glu_sig_bins, weights=sig_sf*glu_signal, histtype='step',\n",
    "         color='midnightblue',label='signal')\n",
    "\n",
    "plt.hist(glu_back_bins[:-1], glu_back_bins, weights=back_sf*glu_bkgrnd, histtype='step',\n",
    "         color='firebrick',label='background')\n",
    "\n",
    "plt.yscale('log')\n",
    "plt.xlabel('Prediction from BDT',fontsize=12)\n",
    "plt.ylabel('Events',fontsize=12)\n",
    "plt.legend(frameon=False)\n",
    "plt.show()"
   ]
  },
  {
   "cell_type": "code",
   "execution_count": null,
   "metadata": {},
   "outputs": [],
   "source": [
    "corr_signal_glu = np.sum(glu_signal[int(len(signal))-1:])\n",
    "wrong_background_glu = np.sum(glu_bkgrnd[int(len(signal))-1:])\n",
    "\n",
    "print(f'unscaled signal: {corr_signal_glu}')\n",
    "print(f'unscaled background {wrong_background_glu}')\n",
    "print()\n",
    "\n",
    "lumi = 350\n",
    "\n",
    "no_s_glu = corr_signal_glu * 0.00123066835 * lumi\n",
    "no_b_glu = (wrong_background_glu * 4538.75 * lumi) / frac\n",
    "significance = no_s_glu / np.sqrt(no_s_glu + no_b_glu)\n",
    "\n",
    "print(f'S: {no_s_glu}')\n",
    "print(f'B: {no_b_glu}')\n",
    "print(f'Significance={round(significance, 4)}')"
   ]
  },
  {
   "cell_type": "markdown",
   "metadata": {},
   "source": [
    "## Analyse features"
   ]
  },
  {
   "cell_type": "code",
   "execution_count": null,
   "metadata": {
    "pycharm": {
     "name": "#%%\n"
    },
    "scrolled": false
   },
   "outputs": [],
   "source": [
    "plt.figure()\n",
    "plt.hist(training_set.jj_eta_1[training_set.label == 1],bins=np.linspace(-4,4,50),\n",
    "         histtype='step',color='midnightblue',label='signal')\n",
    "plt.hist(training_set.jj_eta_1[training_set.label == 0],bins=np.linspace(-4,4,50),\n",
    "         histtype='step',color='firebrick',label='background')\n",
    "\n",
    "plt.xlabel('jj_p_1',fontsize=12)\n",
    "plt.ylabel('Events',fontsize=12)\n",
    "plt.legend(frameon=False)"
   ]
  },
  {
   "cell_type": "code",
   "execution_count": null,
   "metadata": {
    "pycharm": {
     "name": "#%%\n"
    },
    "scrolled": false
   },
   "outputs": [],
   "source": [
    "plt.figure()\n",
    "plt.plot(training_set.scoresum_g[training_set.label == 1], training_set.scoresum_b[training_set.label == 1],\n",
    "         'o',markersize=1.5,color='mediumblue',markeredgewidth=0,alpha=0.7,label='signal')\n",
    "plt.plot(training_set.scoresum_g[training_set.label == 0],training_set.scoresum_b[training_set.label == 0],\n",
    "         'o',markersize=1.5,color='firebrick',markeredgewidth=0,alpha=0.8,label='background')\n",
    "\n",
    "plt.xlim(0, 2)\n",
    "plt.ylim(0, 2)\n",
    "plt.xlabel('scoresum_g',fontsize=12)\n",
    "plt.ylabel('scoresum_b',fontsize=12)\n",
    "legend = plt.legend(frameon=1,numpoints=1,markerscale=2, facecolor='white', framealpha=1)\n",
    "frame = legend.get_frame()\n",
    "frame.set_facecolor('white')\n",
    "frame.set_edgecolor('black')"
   ]
  },
  {
   "cell_type": "code",
   "execution_count": null,
   "metadata": {
    "pycharm": {
     "name": "#%%\n"
    },
    "scrolled": false
   },
   "outputs": [],
   "source": [
    "plt.figure()\n",
    "plt.plot(training_set.reco_g_1[training_set.label == 1],training_set.reco_g_2[training_set.label == 1],\n",
    "         'o',markersize=2,color='mediumblue',markeredgewidth=0,alpha=0.8,label='signal')\n",
    "plt.plot(training_set.reco_g_1[training_set.label == 0],training_set.reco_g_2[training_set.label == 0],\n",
    "         'o',markersize=2,color='firebrick',markeredgewidth=0,alpha=1,label='background')\n",
    "\n",
    "plt.xlim(0,1)\n",
    "plt.ylim(0,1)\n",
    "plt.xlabel('reco_g_1',fontsize=12)\n",
    "plt.ylabel('reco_g_2',fontsize=12)\n",
    "legend = plt.legend(frameon=1,numpoints=1,markerscale=2, facecolor='white', framealpha=1)\n",
    "frame = legend.get_frame()\n",
    "frame.set_facecolor('white')\n",
    "frame.set_edgecolor('black')"
   ]
  },
  {
   "cell_type": "code",
   "execution_count": null,
   "metadata": {
    "pycharm": {
     "name": "#%%\n"
    },
    "scrolled": false
   },
   "outputs": [],
   "source": [
    "plt.figure()\n",
    "plt.plot(training_set.jj_m[training_set.label == 0],training_set.jj_p_2[training_set.label == 0],\n",
    "         'o',markersize=2,color='firebrick',markeredgewidth=0,alpha=0.8,label='background')\n",
    "plt.plot(training_set.jj_m[training_set.label == 1],training_set.jj_p_2[training_set.label == 1],\n",
    "         'o',markersize=2,color='mediumblue',markeredgewidth=0,alpha=0.8,label='signal')\n",
    "\n",
    "plt.xlim(0, 140)\n",
    "plt.ylim(0, 75)\n",
    "plt.xlabel('jj_m',fontsize=12)\n",
    "plt.ylabel('jj_p_2',fontsize=12)\n",
    "legend = plt.legend(frameon=1,numpoints=1,markerscale=2, facecolor='white', framealpha=1)\n",
    "frame = legend.get_frame()\n",
    "frame.set_facecolor('white')\n",
    "frame.set_edgecolor('black')"
   ]
  },
  {
   "cell_type": "code",
   "execution_count": null,
   "metadata": {
    "scrolled": false
   },
   "outputs": [],
   "source": [
    "plt.figure()\n",
    "plt.plot(training_set.scoresum_g[training_set.label == 1],training_set.jet_m_1[training_set.label == 1],\n",
    "         'o',markersize=2,color='mediumblue',markeredgewidth=0,alpha=0.8,label='signal')\n",
    "\n",
    "plt.plot(training_set.scoresum_g[training_set.label == 0],training_set.jet_m_1[training_set.label == 0],\n",
    "         'o',markersize=2,color='firebrick',markeredgewidth=0,alpha=0.8,label='background')\n",
    "\n",
    "plt.xlim(0, 2)\n",
    "plt.ylim(0, 90)\n",
    "plt.xlabel('scoresum_g',fontsize=12)\n",
    "plt.ylabel('jet_m_1',fontsize=12)\n",
    "plt.legend(frameon=False,numpoints=1,markerscale=1)"
   ]
  },
  {
   "cell_type": "code",
   "execution_count": null,
   "metadata": {},
   "outputs": [],
   "source": [
    "plt.figure()\n",
    "plt.plot(training_set.jet_m_1[training_set.label == 0],training_set.jet_m_2[training_set.label == 0],\n",
    "         'o',markersize=2,color='firebrick',markeredgewidth=0,alpha=0.8,label='background')\n",
    "plt.plot(training_set.jet_m_1[training_set.label == 1],training_set.jet_m_2[training_set.label == 1],\n",
    "         'o',markersize=2,color='mediumblue',markeredgewidth=0,alpha=0.8,label='signal')\n",
    "\n",
    "plt.xlim(0, 90)\n",
    "plt.ylim(0, 60)\n",
    "plt.xlabel('jet_m_1',fontsize=12)\n",
    "plt.ylabel('jet_m_2',fontsize=12)\n",
    "plt.legend(frameon=False,numpoints=1,markerscale=1)"
   ]
  },
  {
   "cell_type": "code",
   "execution_count": null,
   "metadata": {},
   "outputs": [],
   "source": [
    "plt.figure()\n",
    "plt.plot(training_set.jet_m_1[training_set.label == 1],training_set.jj_pt_2[training_set.label == 1],\n",
    "         'o',markersize=2,color='mediumblue',markeredgewidth=0,alpha=0.8,label='signal')\n",
    "plt.plot(training_set.jet_m_1[training_set.label == 0],training_set.jj_pt_2[training_set.label == 0],\n",
    "         'o',markersize=2,color='firebrick',markeredgewidth=0,alpha=0.8,label='background')\n",
    "\n",
    "plt.xlim(0, 90)\n",
    "plt.ylim(0, 70)\n",
    "plt.xlabel('jet_m_1',fontsize=12)\n",
    "plt.ylabel('jet_pt_2',fontsize=12)\n",
    "plt.legend(frameon=False,numpoints=1,markerscale=1)"
   ]
  }
 ],
 "metadata": {
  "kernelspec": {
   "display_name": "Python 3 (ipykernel)",
   "language": "python",
   "name": "python3"
  },
  "language_info": {
   "codemirror_mode": {
    "name": "ipython",
    "version": 3
   },
   "file_extension": ".py",
   "mimetype": "text/x-python",
   "name": "python",
   "nbconvert_exporter": "python",
   "pygments_lexer": "ipython3",
   "version": "3.7.4"
  }
 },
 "nbformat": 4,
 "nbformat_minor": 4
}