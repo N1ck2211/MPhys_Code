{
 "cells": [
  {
   "cell_type": "code",
   "execution_count": null,
   "metadata": {},
   "outputs": [],
   "source": [
    "%pip install pydot\n",
    "%pip install graphviz"
   ]
  },
  {
   "cell_type": "code",
   "execution_count": null,
   "metadata": {
    "pycharm": {
     "is_executing": true
    }
   },
   "outputs": [],
   "source": [
    "import pandas as pd\n",
    "import numpy as np\n",
    "import matplotlib.pyplot as plt\n",
    "import os\n",
    "from tensorflow.keras.models import Sequential\n",
    "from tensorflow.keras.layers import Dense, Dropout\n",
    "from keras.utils.vis_utils import plot_model\n",
    "from keras.optimizers import Adam\n",
    "import keras_tuner\n",
    "\n",
    "from sklearn.model_selection import RandomizedSearchCV, train_test_split\n",
    "\n",
    "%matplotlib inline"
   ]
  },
  {
   "cell_type": "markdown",
   "metadata": {},
   "source": [
    "## Preprocess Data"
   ]
  },
  {
   "cell_type": "code",
   "execution_count": null,
   "metadata": {
    "pycharm": {
     "name": "#%%\n"
    }
   },
   "outputs": [],
   "source": [
    "data = pd.read_csv('full_data.csv')"
   ]
  },
  {
   "cell_type": "code",
   "execution_count": null,
   "metadata": {},
   "outputs": [],
   "source": [
    "headings = data.columns.to_list()\n",
    "print(len(headings))\n",
    "headings_without_label = headings.pop(19)\n",
    "print(len(headings))\n",
    "headings.append('label')\n",
    "print(headings)"
   ]
  },
  {
   "cell_type": "code",
   "execution_count": null,
   "metadata": {},
   "outputs": [],
   "source": [
    "data = data[headings]"
   ]
  },
  {
   "cell_type": "code",
   "execution_count": null,
   "metadata": {},
   "outputs": [],
   "source": [
    "data"
   ]
  },
  {
   "cell_type": "code",
   "execution_count": null,
   "metadata": {},
   "outputs": [],
   "source": [
    "# data.drop(columns=data.columns[0], axis=1,  inplace=True)\n",
    "\n",
    "# data"
   ]
  },
  {
   "cell_type": "code",
   "execution_count": null,
   "metadata": {},
   "outputs": [],
   "source": [
    "shuf_data = data.sample(frac=1)\n",
    "shuf_data.head()"
   ]
  },
  {
   "cell_type": "code",
   "execution_count": null,
   "metadata": {},
   "outputs": [],
   "source": [
    "no_events = shuf_data.shape[0]\n",
    "no_training = int(0.7 * no_events)\n",
    "no_val = int(no_training + (0.15 * no_events))"
   ]
  },
  {
   "cell_type": "code",
   "execution_count": null,
   "metadata": {},
   "outputs": [],
   "source": [
    "dataset = shuf_data.to_numpy()"
   ]
  },
  {
   "cell_type": "code",
   "execution_count": null,
   "metadata": {},
   "outputs": [],
   "source": [
    "X = dataset[:, 0:28]\n",
    "y = dataset[:, 28]"
   ]
  },
  {
   "cell_type": "code",
   "execution_count": null,
   "metadata": {},
   "outputs": [],
   "source": [
    "# X_train\n",
    "X_train = X[:no_training]\n",
    "X_val = X[no_training:no_val]\n",
    "X_test = X[no_val:]\n",
    "\n",
    "y_train = y[:no_training]\n",
    "y_val = y[no_training:no_val]\n",
    "y_test = y[no_val:]"
   ]
  },
  {
   "cell_type": "markdown",
   "metadata": {},
   "source": [
    "## Evaluating Hyperparameters"
   ]
  },
  {
   "cell_type": "code",
   "execution_count": null,
   "metadata": {},
   "outputs": [],
   "source": [
    "def build_model(hp):\n",
    "    model = Sequential()\n",
    "    \n",
    "    # tuning number of layers:\n",
    "    for i in range(hp.Int('num_layers', 1, 4)):\n",
    "        model.add(Dense(units=hp.Int(f'units{i}', min_value=10, max_value=80, step=10),\n",
    "                        activation=hp.Choice('activation', ['relu', 'tanh']),\n",
    "                       )\n",
    "                 )\n",
    "    \n",
    "    if hp.Boolean('dropout'):\n",
    "        model.add(Dropout(rate=0.2))\n",
    "    \n",
    "    model.add(Dense(1, activation='sigmoid'))\n",
    "    #Add learning rate?\n",
    "    learning_rate = hp.Float(\"lr\", min_value=1e-4, max_value=1e-2, sampling=\"log\")\n",
    "    \n",
    "    model.compile(loss='binary_crossentropy', optimizer=Adam(learning_rate=learning_rate), metrics=['accuracy'])\n",
    "    \n",
    "    return(model)\n",
    "        "
   ]
  },
  {
   "cell_type": "code",
   "execution_count": null,
   "metadata": {},
   "outputs": [],
   "source": [
    "build_model(keras_tuner.HyperParameters())"
   ]
  },
  {
   "cell_type": "code",
   "execution_count": null,
   "metadata": {},
   "outputs": [],
   "source": [
    "tuner = keras_tuner.RandomSearch(hypermodel=build_model, objective='val_accuracy', max_trials=20, \n",
    "                                 executions_per_trial=1, overwrite=True, directory='./NN_traing_res',\n",
    "                                 project_name='res_1')"
   ]
  },
  {
   "cell_type": "code",
   "execution_count": null,
   "metadata": {},
   "outputs": [],
   "source": [
    "tuner.search_space_summary()"
   ]
  },
  {
   "cell_type": "code",
   "execution_count": null,
   "metadata": {},
   "outputs": [],
   "source": [
    "tuner.search(X_train, y_train, epochs=50, batch_size=500,  validation_data=(X_val, y_val))"
   ]
  },
  {
   "cell_type": "code",
   "execution_count": null,
   "metadata": {},
   "outputs": [],
   "source": [
    "tuner.results_summary()"
   ]
  },
  {
   "cell_type": "markdown",
   "metadata": {},
   "source": [
    "## Define Model With Best Hyperparams"
   ]
  },
  {
   "cell_type": "code",
   "execution_count": null,
   "metadata": {},
   "outputs": [],
   "source": [
    "# define the keras model\n",
    "# model = Sequential()\n",
    "# model.add(Dense(50, activation='relu', name='ReLu-1'))\n",
    "# model.add(Dense(80, activation='relu', name='ReLu-2'))\n",
    "# model.add(Dense(70, activation='relu', name='ReLu-3'))\n",
    "# model.add(Dense(80, activation='relu', name='ReLu-4'))\n",
    "# model.add(Dropout(rate=0.2))\n",
    "# model.add(Dense(1, activation='sigmoid', name='Sigmoid'))\n",
    "\n",
    "model = Sequential()\n",
    "model.add(Dense(70, activation='relu', name='ReLu-1'))\n",
    "model.add(Dense(60, activation='relu', name='ReLu-2'))\n",
    "model.add(Dense(50, activation='relu', name='ReLu-3'))\n",
    "model.add(Dense(10, activation='relu', name='ReLu-4'))\n",
    "model.add(Dense(1, activation='sigmoid', name='Sigmoid'))"
   ]
  },
  {
   "cell_type": "code",
   "execution_count": null,
   "metadata": {},
   "outputs": [],
   "source": [
    "# model.compile(loss='binary_crossentropy', optimizer=Adam(learning_rate=0.000335981718179628), metrics=['accuracy'])\n",
    "model.compile(loss='binary_crossentropy', optimizer=Adam(learning_rate=0.0012413505390506882), metrics=['accuracy'])"
   ]
  },
  {
   "cell_type": "markdown",
   "metadata": {},
   "source": [
    "## Train and Evaluate Model"
   ]
  },
  {
   "cell_type": "code",
   "execution_count": null,
   "metadata": {},
   "outputs": [],
   "source": [
    "model.fit(X_train, y_train, epochs=100, batch_size=500)"
   ]
  },
  {
   "cell_type": "code",
   "execution_count": null,
   "metadata": {},
   "outputs": [],
   "source": [
    "# evaluate the keras model\n",
    "_, accuracy = model.evaluate(X_test, y_test)\n",
    "print('Accuracy: %.2f' % (accuracy*100))"
   ]
  },
  {
   "cell_type": "code",
   "execution_count": null,
   "metadata": {},
   "outputs": [],
   "source": [
    "predictions = model.predict(X_test)\n",
    "# round predictions \n",
    "rounded = [round(x[0]) for x in predictions]"
   ]
  },
  {
   "cell_type": "code",
   "execution_count": null,
   "metadata": {},
   "outputs": [],
   "source": [
    "# plot_model(model, to_file='model_plot.png', show_shapes=True, show_layer_names=True, rankdir=\"LR\",)"
   ]
  },
  {
   "cell_type": "code",
   "execution_count": null,
   "metadata": {},
   "outputs": [],
   "source": [
    "# make class predictions with the model\n",
    "predictions = (model.predict(X_test) > 0.98).astype(int)"
   ]
  },
  {
   "cell_type": "code",
   "execution_count": null,
   "metadata": {},
   "outputs": [],
   "source": [
    "for i in range(5):\n",
    " print('%s => %d (expected %d)' % (X_test[i].tolist(), predictions[i], y_test[i]))"
   ]
  },
  {
   "cell_type": "markdown",
   "metadata": {},
   "source": [
    "## Plot Predictions"
   ]
  },
  {
   "cell_type": "code",
   "execution_count": null,
   "metadata": {},
   "outputs": [],
   "source": [
    "# plot all predictions (both signal and background)\n",
    "plt.figure()\n",
    "plt.hist(predictions, bins=np.linspace(0,1,50),histtype='step',color='darkgreen',label='All events')\n",
    "# make the plot readable\n",
    "plt.xlabel('Prediction from NN',fontsize=12)\n",
    "plt.ylabel('Events',fontsize=12)\n",
    "plt.legend(frameon=False)"
   ]
  },
  {
   "cell_type": "code",
   "execution_count": null,
   "metadata": {},
   "outputs": [],
   "source": [
    "# plot signal and background separately\n",
    "plt.figure()\n",
    "plt.hist(predictions[y_test.astype(bool)],bins=np.linspace(0,1,50),\n",
    "         histtype='step',color='midnightblue',label='signal')\n",
    "plt.hist(predictions[~(y_test.astype(bool))],bins=np.linspace(0,1,50),\n",
    "         histtype='step',color='firebrick',label='background')\n",
    "# make the plot readable\n",
    "plt.xlabel('Prediction from NN',fontsize=12)\n",
    "plt.ylabel('Events',fontsize=12)\n",
    "plt.legend(frameon=False)"
   ]
  },
  {
   "cell_type": "code",
   "execution_count": null,
   "metadata": {},
   "outputs": [],
   "source": [
    "frac = 799991 / 600000\n",
    "799991 / frac"
   ]
  },
  {
   "cell_type": "code",
   "execution_count": null,
   "metadata": {},
   "outputs": [],
   "source": [
    "signal, sig_bins = np.histogram(predictions[y_test.astype(bool)],bins=np.linspace(0,1,50))\n",
    "bkgrnd, back_bins = np.histogram(predictions[~(y_test.astype(bool))],bins=np.linspace(0,1,50))\n",
    "\n",
    "# sig_sf = 10 * 7.38400e-05\n",
    "# back_sf = (10 * 363) / frac\n",
    "lumi = 10 \n",
    "\n",
    "sig_sf = 0.00123066835 * lumi\n",
    "back_sf = (4538.75 * lumi) / frac\n",
    "\n",
    "plt.hist(sig_bins[:-1], sig_bins, weights=sig_sf*signal, histtype='step',color='midnightblue',label='signal')\n",
    "plt.hist(back_bins[:-1], back_bins, weights=back_sf*bkgrnd, histtype='step',color='firebrick',label='background')\n",
    "\n",
    "plt.yscale('log')\n",
    "plt.xlabel('Prediction from NN',fontsize=12)\n",
    "plt.ylabel('Events',fontsize=12)\n",
    "plt.legend(frameon=False)\n",
    "plt.show()"
   ]
  },
  {
   "cell_type": "code",
   "execution_count": null,
   "metadata": {},
   "outputs": [],
   "source": [
    "corr_signal = signal[-1]\n",
    "wrong_background = bkgrnd[-1]\n",
    "print(f'unscaled signal: {corr_signal}')\n",
    "print(f'unscaled background {wrong_background}')\n",
    "print()\n",
    "\n",
    "lumi= 20\n",
    "\n",
    "no_s = corr_signal * 0.00123066835 * lumi \n",
    "no_b = (wrong_background * 4538.75 * lumi)/frac\n",
    "significance = no_s / np.sqrt(no_s + no_b)\n",
    "print(f'S: {no_s}')\n",
    "print(f'B: {no_b}')\n",
    "print(f'Significance={round(significance, 4)}')"
   ]
  },
  {
   "cell_type": "markdown",
   "metadata": {},
   "source": [
    "## Dealing with raw score"
   ]
  },
  {
   "cell_type": "code",
   "execution_count": null,
   "metadata": {},
   "outputs": [],
   "source": [
    "prediction_score = (model.predict(X_test)).astype(float)"
   ]
  },
  {
   "cell_type": "code",
   "execution_count": null,
   "metadata": {},
   "outputs": [],
   "source": [
    "# plot all predictions (both signal and background)\n",
    "plt.figure()\n",
    "plt.hist(prediction_score, bins=np.linspace(0,1,50),histtype='step',color='darkgreen',label='All events')\n",
    "# make the plot readable\n",
    "plt.xlabel('Prediction from NN',fontsize=12)\n",
    "plt.ylabel('Events',fontsize=12)\n",
    "plt.legend(frameon=False)"
   ]
  },
  {
   "cell_type": "code",
   "execution_count": null,
   "metadata": {},
   "outputs": [],
   "source": [
    "# plot signal and background separately\n",
    "plt.figure()\n",
    "plt.hist(prediction_score[y_test.astype(bool)],bins=np.linspace(0,1,50),\n",
    "         histtype='step',color='midnightblue',label='signal')\n",
    "plt.hist(prediction_score[~(y_test.astype(bool))],bins=np.linspace(0,1,50),\n",
    "         histtype='step',color='firebrick',label='background')\n",
    "# make the plot readable\n",
    "plt.xlabel('Prediction from NN',fontsize=12)\n",
    "plt.ylabel('Events',fontsize=12)\n",
    "plt.legend(frameon=False)"
   ]
  },
  {
   "cell_type": "code",
   "execution_count": null,
   "metadata": {},
   "outputs": [],
   "source": [
    "signal, sig_bins = np.histogram(prediction_score[y_test.astype(bool)],bins=np.linspace(0,1,50))\n",
    "bkgrnd, back_bins = np.histogram(prediction_score[~(y_test.astype(bool))],bins=np.linspace(0,1,50))\n",
    "\n",
    "sig_sf = 10 * 7.38400e-05\n",
    "back_sf = (10 * 363) \n",
    "\n",
    "plt.hist(sig_bins[:-1], sig_bins, weights=sig_sf*signal, histtype='step',color='midnightblue',label='signal')\n",
    "plt.hist(back_bins[:-1], back_bins, weights=back_sf*bkgrnd, histtype='step',color='firebrick',label='background')\n",
    "\n",
    "plt.yscale('log')\n",
    "plt.xlabel('Prediction from NN',fontsize=12)\n",
    "plt.ylabel('Events',fontsize=12)\n",
    "plt.legend(frameon=False)\n",
    "plt.show()"
   ]
  },
  {
   "cell_type": "code",
   "execution_count": null,
   "metadata": {},
   "outputs": [],
   "source": [
    "# choose score cuts:\n",
    "cuts = np.linspace(0,1,500)\n",
    "nsignal = np.zeros(len(cuts))\n",
    "nbackground = np.zeros(len(cuts))\n",
    "\n",
    "for i,cut in enumerate(cuts):\n",
    "    nsignal[i] = len(np.where(prediction_score[y_test.astype(bool)] > cut)[0])\n",
    "    nbackground[i] = len(np.where(prediction_score[~(y_test.astype(bool))] > cut)[0])\n",
    "\n",
    "\n",
    "# plot efficiency vs. purity (ROC curve)\n",
    "plt.figure()\n",
    "plt.plot(nsignal/len(X_test[y_test.astype(bool) == 1]),nsignal/(nsignal + nbackground),'o-',color='blueviolet')\n",
    "# make the plot readable\n",
    "plt.xlabel('Efficiency',fontsize=12)\n",
    "plt.ylabel('Purity',fontsize=12)"
   ]
  },
  {
   "cell_type": "code",
   "execution_count": null,
   "metadata": {
    "pycharm": {
     "name": "#%%\n"
    }
   },
   "outputs": [],
   "source": [
    "# Zoom in view of the upper left corner.\n",
    "plt.figure()\n",
    "plt.xlim(0.85, 1.0)\n",
    "plt.ylim(0.85, 1.0)\n",
    "# plt.plot([0, 1], [0, 1], 'k--')\n",
    "plt.plot(nsignal/len(X_test[y_test.astype(bool) == 1]),nsignal/(nsignal + nbackground),'o-',color='blueviolet', markersize=1)\n",
    "plt.xlabel('Efficiency',fontsize=12)\n",
    "plt.ylabel('Purity',fontsize=12)\n",
    "plt.title('PRC(zoomed in at top right)')\n",
    "plt.show()"
   ]
  },
  {
   "cell_type": "markdown",
   "metadata": {},
   "source": [
    "## Apply model to gluon set"
   ]
  },
  {
   "cell_type": "code",
   "execution_count": null,
   "metadata": {},
   "outputs": [],
   "source": [
    "mask = X_test[:, -5] > 1.7\n",
    "X_test_glu = X_test[mask]\n",
    "y_test_glu = y_test[mask]"
   ]
  },
  {
   "cell_type": "code",
   "execution_count": null,
   "metadata": {},
   "outputs": [],
   "source": [
    "predictions_glu = (model.predict(X_test_glu) > 0.98).astype(int)"
   ]
  },
  {
   "cell_type": "code",
   "execution_count": null,
   "metadata": {},
   "outputs": [],
   "source": [
    "plt.figure()\n",
    "plt.hist(predictions_glu, bins=np.linspace(0,1,50),histtype='step',color='darkgreen',label='All events')\n",
    "# make the plot readable\n",
    "plt.xlabel('Prediction from NN',fontsize=12)\n",
    "plt.ylabel('Events',fontsize=12)\n",
    "plt.legend(frameon=False)"
   ]
  },
  {
   "cell_type": "code",
   "execution_count": null,
   "metadata": {},
   "outputs": [],
   "source": [
    "# plot signal and background separately\n",
    "plt.figure()\n",
    "plt.hist(predictions_glu[y_test_glu.astype(bool)],bins=np.linspace(0,1,50),\n",
    "         histtype='step',color='midnightblue',label='signal')\n",
    "plt.hist(predictions_glu[~(y_test_glu.astype(bool))],bins=np.linspace(0,1,50),\n",
    "         histtype='step',color='firebrick',label='background')\n",
    "# make the plot readable\n",
    "plt.xlabel('Prediction from NN',fontsize=12)\n",
    "plt.ylabel('Events',fontsize=12)\n",
    "plt.legend(frameon=False)"
   ]
  },
  {
   "cell_type": "code",
   "execution_count": null,
   "metadata": {},
   "outputs": [],
   "source": [
    "signal_glu, sig_bins_glu = np.histogram(predictions_glu[y_test_glu.astype(bool)],bins=np.linspace(0,1,50))\n",
    "bkgrnd_glu, back_bins_glu = np.histogram(predictions_glu[~(y_test_glu.astype(bool))],bins=np.linspace(0,1,50))\n",
    "\n",
    "# sig_sf = 10 * 7.38400e-05\n",
    "# back_sf = (10 * 363) / frac\n",
    "lumi = 10 \n",
    "\n",
    "sig_sf = 0.00123066835 * lumi\n",
    "back_sf = (4538.75 * lumi) / frac\n",
    "\n",
    "plt.hist(sig_bins_glu[:-1], sig_bins_glu, weights=sig_sf*signal_glu, histtype='step',color='midnightblue',label='signal_glu')\n",
    "plt.hist(back_bins_glu[:-1], back_bins_glu, weights=back_sf*bkgrnd_glu, histtype='step',color='firebrick',label='background')\n",
    "\n",
    "plt.yscale('log')\n",
    "plt.xlabel('Prediction from NN',fontsize=12)\n",
    "plt.ylabel('Events',fontsize=12)\n",
    "plt.legend(frameon=False)\n",
    "plt.show()"
   ]
  },
  {
   "cell_type": "code",
   "execution_count": null,
   "metadata": {},
   "outputs": [],
   "source": [
    "# corr_signal_glu = signal_glu[-1]\n",
    "# wrong_background_glu = bkgrnd_glu[-1]\n",
    "\n",
    "corr_signal_glu = 7514\n",
    "wrong_background_glu = 3\n",
    "\n",
    "print(f'unscaled signal: {corr_signal_glu}')\n",
    "print(f'unscaled background {wrong_background_glu}')\n",
    "print()\n",
    "\n",
    "lumi= 1100\n",
    "\n",
    "no_s_glu = corr_signal_glu * 0.00123066835 * lumi \n",
    "no_b_glu = (wrong_background_glu * 4538.75 * lumi)/frac\n",
    "significance_glu = no_s_glu / np.sqrt(no_s_glu + no_b_glu)\n",
    "print(f'S: {no_s_glu}')\n",
    "print(f'B: {no_b_glu}')\n",
    "print(f'Significance={round(significance_glu, 4)}')"
   ]
  },
  {
   "cell_type": "code",
   "execution_count": null,
   "metadata": {},
   "outputs": [],
   "source": []
  }
 ],
 "metadata": {
  "kernelspec": {
   "display_name": "Python 3 (ipykernel)",
   "language": "python",
   "name": "python3"
  },
  "language_info": {
   "codemirror_mode": {
    "name": "ipython",
    "version": 3
   },
   "file_extension": ".py",
   "mimetype": "text/x-python",
   "name": "python",
   "nbconvert_exporter": "python",
   "pygments_lexer": "ipython3",
   "version": "3.7.4"
  }
 },
 "nbformat": 4,
 "nbformat_minor": 1
}