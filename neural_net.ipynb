{
 "cells": [
  {
   "cell_type": "code",
   "execution_count": 57,
   "metadata": {},
   "outputs": [],
   "source": [
    "import pandas as pd\n",
    "import numpy as np\n",
    "import matplotlib.pyplot as plt\n",
    "import os\n",
    "from tensorflow.keras.models import Sequential\n",
    "from tensorflow.keras.layers import Dense\n",
    "\n",
    "from sklearn.model_selection import RandomizedSearchCV, train_test_split\n",
    "\n",
    "%matplotlib inline"
   ]
  },
  {
   "cell_type": "code",
   "execution_count": 58,
   "metadata": {
    "pycharm": {
     "name": "#%%\n"
    }
   },
   "outputs": [],
   "source": [
    "data = pd.read_csv('full_data.csv')"
   ]
  },
  {
   "cell_type": "code",
   "execution_count": 59,
   "metadata": {},
   "outputs": [
    {
     "data": {
      "text/html": [
       "<div>\n",
       "<style scoped>\n",
       "    .dataframe tbody tr th:only-of-type {\n",
       "        vertical-align: middle;\n",
       "    }\n",
       "\n",
       "    .dataframe tbody tr th {\n",
       "        vertical-align: top;\n",
       "    }\n",
       "\n",
       "    .dataframe thead th {\n",
       "        text-align: right;\n",
       "    }\n",
       "</style>\n",
       "<table border=\"1\" class=\"dataframe\">\n",
       "  <thead>\n",
       "    <tr style=\"text-align: right;\">\n",
       "      <th></th>\n",
       "      <th>jj_eta_1</th>\n",
       "      <th>j_eta_2</th>\n",
       "      <th>jj_theta_1</th>\n",
       "      <th>jj_theta_2</th>\n",
       "      <th>reco_q_1</th>\n",
       "      <th>reco_q_2</th>\n",
       "      <th>reco_s_1</th>\n",
       "      <th>reco_s_2</th>\n",
       "      <th>reco_g_1</th>\n",
       "      <th>reco_g_2</th>\n",
       "      <th>...</th>\n",
       "      <th>jet_nchad_1</th>\n",
       "      <th>jet_nchad_2</th>\n",
       "      <th>jet_nconst_1</th>\n",
       "      <th>jet_nconst_2</th>\n",
       "      <th>jj_m</th>\n",
       "      <th>jj_pt_1</th>\n",
       "      <th>jj_pt_2</th>\n",
       "      <th>jet_m_1</th>\n",
       "      <th>jet_m_2</th>\n",
       "      <th>label</th>\n",
       "    </tr>\n",
       "  </thead>\n",
       "  <tbody>\n",
       "    <tr>\n",
       "      <th>0</th>\n",
       "      <td>-0.199370</td>\n",
       "      <td>0.178718</td>\n",
       "      <td>1.76886</td>\n",
       "      <td>1.393020</td>\n",
       "      <td>0.002115</td>\n",
       "      <td>0.000134</td>\n",
       "      <td>0.000893</td>\n",
       "      <td>0.000191</td>\n",
       "      <td>0.049876</td>\n",
       "      <td>0.009023</td>\n",
       "      <td>...</td>\n",
       "      <td>10</td>\n",
       "      <td>10</td>\n",
       "      <td>20</td>\n",
       "      <td>16</td>\n",
       "      <td>123.9090</td>\n",
       "      <td>34.3344</td>\n",
       "      <td>31.9266</td>\n",
       "      <td>52.36940</td>\n",
       "      <td>17.2263</td>\n",
       "      <td>0</td>\n",
       "    </tr>\n",
       "    <tr>\n",
       "      <th>1</th>\n",
       "      <td>-1.314310</td>\n",
       "      <td>1.294810</td>\n",
       "      <td>2.61667</td>\n",
       "      <td>0.534777</td>\n",
       "      <td>0.000026</td>\n",
       "      <td>0.000045</td>\n",
       "      <td>0.000021</td>\n",
       "      <td>0.000037</td>\n",
       "      <td>0.011074</td>\n",
       "      <td>0.004671</td>\n",
       "      <td>...</td>\n",
       "      <td>9</td>\n",
       "      <td>14</td>\n",
       "      <td>18</td>\n",
       "      <td>32</td>\n",
       "      <td>126.4110</td>\n",
       "      <td>38.6439</td>\n",
       "      <td>36.5570</td>\n",
       "      <td>15.04860</td>\n",
       "      <td>10.7552</td>\n",
       "      <td>0</td>\n",
       "    </tr>\n",
       "    <tr>\n",
       "      <th>2</th>\n",
       "      <td>0.200933</td>\n",
       "      <td>0.036554</td>\n",
       "      <td>1.37120</td>\n",
       "      <td>1.534250</td>\n",
       "      <td>0.000062</td>\n",
       "      <td>0.000009</td>\n",
       "      <td>0.000122</td>\n",
       "      <td>0.000017</td>\n",
       "      <td>0.002114</td>\n",
       "      <td>0.003440</td>\n",
       "      <td>...</td>\n",
       "      <td>7</td>\n",
       "      <td>2</td>\n",
       "      <td>23</td>\n",
       "      <td>8</td>\n",
       "      <td>66.6327</td>\n",
       "      <td>26.9580</td>\n",
       "      <td>30.2782</td>\n",
       "      <td>15.79860</td>\n",
       "      <td>8.8268</td>\n",
       "      <td>0</td>\n",
       "    </tr>\n",
       "    <tr>\n",
       "      <th>3</th>\n",
       "      <td>0.060725</td>\n",
       "      <td>0.060067</td>\n",
       "      <td>1.51011</td>\n",
       "      <td>1.510770</td>\n",
       "      <td>0.000079</td>\n",
       "      <td>0.000050</td>\n",
       "      <td>0.000031</td>\n",
       "      <td>0.000046</td>\n",
       "      <td>0.004614</td>\n",
       "      <td>0.004679</td>\n",
       "      <td>...</td>\n",
       "      <td>14</td>\n",
       "      <td>10</td>\n",
       "      <td>24</td>\n",
       "      <td>19</td>\n",
       "      <td>105.5050</td>\n",
       "      <td>41.0236</td>\n",
       "      <td>36.7720</td>\n",
       "      <td>22.22420</td>\n",
       "      <td>14.2766</td>\n",
       "      <td>0</td>\n",
       "    </tr>\n",
       "    <tr>\n",
       "      <th>4</th>\n",
       "      <td>-0.100220</td>\n",
       "      <td>0.088021</td>\n",
       "      <td>1.67085</td>\n",
       "      <td>1.482890</td>\n",
       "      <td>0.000032</td>\n",
       "      <td>0.000021</td>\n",
       "      <td>0.000027</td>\n",
       "      <td>0.000029</td>\n",
       "      <td>0.005912</td>\n",
       "      <td>0.013000</td>\n",
       "      <td>...</td>\n",
       "      <td>9</td>\n",
       "      <td>13</td>\n",
       "      <td>32</td>\n",
       "      <td>21</td>\n",
       "      <td>128.1410</td>\n",
       "      <td>31.3740</td>\n",
       "      <td>28.5213</td>\n",
       "      <td>7.17776</td>\n",
       "      <td>10.3575</td>\n",
       "      <td>0</td>\n",
       "    </tr>\n",
       "  </tbody>\n",
       "</table>\n",
       "<p>5 rows × 24 columns</p>\n",
       "</div>"
      ],
      "text/plain": [
       "   jj_eta_1   j_eta_2  jj_theta_1  jj_theta_2  reco_q_1  reco_q_2  reco_s_1  \\\n",
       "0 -0.199370  0.178718     1.76886    1.393020  0.002115  0.000134  0.000893   \n",
       "1 -1.314310  1.294810     2.61667    0.534777  0.000026  0.000045  0.000021   \n",
       "2  0.200933  0.036554     1.37120    1.534250  0.000062  0.000009  0.000122   \n",
       "3  0.060725  0.060067     1.51011    1.510770  0.000079  0.000050  0.000031   \n",
       "4 -0.100220  0.088021     1.67085    1.482890  0.000032  0.000021  0.000027   \n",
       "\n",
       "   reco_s_2  reco_g_1  reco_g_2  ...  jet_nchad_1  jet_nchad_2  jet_nconst_1  \\\n",
       "0  0.000191  0.049876  0.009023  ...           10           10            20   \n",
       "1  0.000037  0.011074  0.004671  ...            9           14            18   \n",
       "2  0.000017  0.002114  0.003440  ...            7            2            23   \n",
       "3  0.000046  0.004614  0.004679  ...           14           10            24   \n",
       "4  0.000029  0.005912  0.013000  ...            9           13            32   \n",
       "\n",
       "   jet_nconst_2      jj_m  jj_pt_1  jj_pt_2   jet_m_1  jet_m_2  label  \n",
       "0            16  123.9090  34.3344  31.9266  52.36940  17.2263      0  \n",
       "1            32  126.4110  38.6439  36.5570  15.04860  10.7552      0  \n",
       "2             8   66.6327  26.9580  30.2782  15.79860   8.8268      0  \n",
       "3            19  105.5050  41.0236  36.7720  22.22420  14.2766      0  \n",
       "4            21  128.1410  31.3740  28.5213   7.17776  10.3575      0  \n",
       "\n",
       "[5 rows x 24 columns]"
      ]
     },
     "execution_count": 59,
     "metadata": {},
     "output_type": "execute_result"
    }
   ],
   "source": [
    "data.drop(columns=data.columns[0], axis=1,  inplace=True)\n",
    "\n",
    "data.head()"
   ]
  },
  {
   "cell_type": "code",
   "execution_count": 60,
   "metadata": {},
   "outputs": [],
   "source": [
    "shuf_data = data.sample(frac=1)"
   ]
  },
  {
   "cell_type": "code",
   "execution_count": 61,
   "metadata": {},
   "outputs": [],
   "source": [
    "no_events = shuf_data.shape[0]\n",
    "no_training = int(0.8 * no_events)"
   ]
  },
  {
   "cell_type": "code",
   "execution_count": 62,
   "metadata": {},
   "outputs": [],
   "source": [
    "dataset = shuf_data.to_numpy()"
   ]
  },
  {
   "cell_type": "code",
   "execution_count": 63,
   "metadata": {},
   "outputs": [],
   "source": [
    "X = dataset[:, 0:23]\n",
    "y = dataset[:, 23]"
   ]
  },
  {
   "cell_type": "code",
   "execution_count": 64,
   "metadata": {},
   "outputs": [],
   "source": [
    "# X_train\n",
    "X_train = X[:no_training]\n",
    "X_test = X[no_training:]\n",
    "\n",
    "y_train = y[:no_training]\n",
    "y_test = y[no_training:]"
   ]
  },
  {
   "cell_type": "code",
   "execution_count": 65,
   "metadata": {},
   "outputs": [],
   "source": [
    "# define the keras model\n",
    "model = Sequential()\n",
    "model.add(Dense(12, input_shape=(23,), activation='relu'))\n",
    "model.add(Dense(23, activation='relu'))\n",
    "model.add(Dense(23, activation='relu'))\n",
    "model.add(Dense(1, activation='sigmoid'))"
   ]
  },
  {
   "cell_type": "code",
   "execution_count": 66,
   "metadata": {},
   "outputs": [],
   "source": [
    "model.compile(loss='binary_crossentropy', optimizer='adam', metrics=['accuracy', 'auc'])"
   ]
  },
  {
   "cell_type": "code",
   "execution_count": 67,
   "metadata": {},
   "outputs": [
    {
     "name": "stdout",
     "output_type": "stream",
     "text": [
      "Epoch 1/2\n",
      "112000/112000 [==============================] - 267s 2ms/step - loss: 0.1392 - accuracy: 0.9464\n",
      "Epoch 2/2\n",
      "112000/112000 [==============================] - 268s 2ms/step - loss: 0.1164 - accuracy: 0.9555\n"
     ]
    },
    {
     "data": {
      "text/plain": [
       "<keras.callbacks.History at 0x7fcc8c175450>"
      ]
     },
     "execution_count": 67,
     "metadata": {},
     "output_type": "execute_result"
    }
   ],
   "source": [
    "model.fit(X_train, y_train, epochs=2, batch_size=10)"
   ]
  },
  {
   "cell_type": "code",
   "execution_count": 68,
   "metadata": {},
   "outputs": [
    {
     "name": "stdout",
     "output_type": "stream",
     "text": [
      "8750/8750 [==============================] - 14s 2ms/step - loss: 0.1101 - accuracy: 0.9579\n",
      "Accuracy: 95.79\n"
     ]
    }
   ],
   "source": [
    "# evaluate the keras model\n",
    "_, accuracy = model.evaluate(X_test, y_test)\n",
    "print('Accuracy: %.2f' % (accuracy*100))"
   ]
  },
  {
   "cell_type": "code",
   "execution_count": 69,
   "metadata": {},
   "outputs": [
    {
     "name": "stdout",
     "output_type": "stream",
     "text": [
      "8750/8750 [==============================] - 13s 1ms/step\n"
     ]
    }
   ],
   "source": [
    "predictions = model.predict(X_test)\n",
    "# round predictions \n",
    "rounded = [round(x[0]) for x in predictions]"
   ]
  },
  {
   "cell_type": "code",
   "execution_count": 70,
   "metadata": {},
   "outputs": [
    {
     "name": "stdout",
     "output_type": "stream",
     "text": [
      "8750/8750 [==============================] - 14s 2ms/step\n"
     ]
    }
   ],
   "source": [
    "# make class predictions with the model\n",
    "predictions = (model.predict(X_test) > 0.5).astype(int)"
   ]
  },
  {
   "cell_type": "code",
   "execution_count": null,
   "metadata": {},
   "outputs": [],
   "source": [
    "for i in range(5):\n",
    " print('%s => %d (expected %d)' % (X_test[i].tolist(), predictions[i], y_test[i]))"
   ]
  },
  {
   "cell_type": "code",
   "execution_count": null,
   "metadata": {},
   "outputs": [],
   "source": [
    "# plot all predictions (both signal and background)\n",
    "plt.figure()\n",
    "plt.hist(predictions, bins=np.linspace(0,1,50),histtype='step',color='darkgreen',label='All events')\n",
    "# make the plot readable\n",
    "plt.xlabel('Prediction from NN',fontsize=12)\n",
    "plt.ylabel('Events',fontsize=12)\n",
    "plt.legend(frameon=False)"
   ]
  },
  {
   "cell_type": "code",
   "execution_count": null,
   "metadata": {},
   "outputs": [],
   "source": [
    "# plot signal and background separately\n",
    "plt.figure()\n",
    "plt.hist(predictions[y_test.astype(bool)],bins=np.linspace(0,1,50),\n",
    "         histtype='step',color='midnightblue',label='signal')\n",
    "plt.hist(predictions[~(y_test.astype(bool))],bins=np.linspace(0,1,50),\n",
    "         histtype='step',color='firebrick',label='background')\n",
    "# make the plot readable\n",
    "plt.xlabel('Prediction from NN',fontsize=12)\n",
    "plt.ylabel('Events',fontsize=12)\n",
    "plt.legend(frameon=False)"
   ]
  },
  {
   "cell_type": "code",
   "execution_count": null,
   "metadata": {},
   "outputs": [],
   "source": [
    "signal, sig_bins = np.histogram(predictions[y_test.astype(bool)],bins=np.linspace(0,1,50))\n",
    "bkgrnd, back_bins = np.histogram(predictions[~(y_test.astype(bool))],bins=np.linspace(0,1,50))\n",
    "\n",
    "sig_sf = 10 * 7.38400e-05\n",
    "back_sf = (10 * 363) \n",
    "\n",
    "plt.hist(sig_bins[:-1], sig_bins, weights=sig_sf*signal, histtype='step',color='midnightblue',label='signal')\n",
    "plt.hist(back_bins[:-1], back_bins, weights=back_sf*bkgrnd, histtype='step',color='firebrick',label='background')\n",
    "\n",
    "plt.yscale('log')\n",
    "plt.xlabel('Prediction from NN',fontsize=12)\n",
    "plt.ylabel('Events',fontsize=12)\n",
    "plt.legend(frameon=False)\n",
    "plt.show()"
   ]
  },
  {
   "cell_type": "code",
   "execution_count": 75,
   "metadata": {},
   "outputs": [
    {
     "name": "stdout",
     "output_type": "stream",
     "text": [
      "8750/8750 [==============================] - 24s 3ms/step\n"
     ]
    }
   ],
   "source": [
    "prediction_score = (model.predict(X_test)).astype(float)"
   ]
  },
  {
   "cell_type": "code",
   "execution_count": null,
   "metadata": {},
   "outputs": [],
   "source": [
    "# plot all predictions (both signal and background)\n",
    "plt.figure()\n",
    "plt.hist(prediction_score, bins=np.linspace(0,1,50),histtype='step',color='darkgreen',label='All events')\n",
    "# make the plot readable\n",
    "plt.xlabel('Prediction from NN',fontsize=12)\n",
    "plt.ylabel('Events',fontsize=12)\n",
    "plt.legend(frameon=False)"
   ]
  },
  {
   "cell_type": "code",
   "execution_count": null,
   "metadata": {},
   "outputs": [],
   "source": [
    "# plot signal and background separately\n",
    "plt.figure()\n",
    "plt.hist(prediction_score[y_test.astype(bool)],bins=np.linspace(0,1,50),\n",
    "         histtype='step',color='midnightblue',label='signal')\n",
    "plt.hist(prediction_score[~(y_test.astype(bool))],bins=np.linspace(0,1,50),\n",
    "         histtype='step',color='firebrick',label='background')\n",
    "# make the plot readable\n",
    "plt.xlabel('Prediction from NN',fontsize=12)\n",
    "plt.ylabel('Events',fontsize=12)\n",
    "plt.legend(frameon=False)"
   ]
  },
  {
   "cell_type": "code",
   "execution_count": null,
   "metadata": {},
   "outputs": [],
   "source": [
    "signal, sig_bins = np.histogram(prediction_score[y_test.astype(bool)],bins=np.linspace(0,1,50))\n",
    "bkgrnd, back_bins = np.histogram(prediction_score[~(y_test.astype(bool))],bins=np.linspace(0,1,50))\n",
    "\n",
    "sig_sf = 10 * 7.38400e-05\n",
    "back_sf = (10 * 363) \n",
    "\n",
    "plt.hist(sig_bins[:-1], sig_bins, weights=sig_sf*signal, histtype='step',color='midnightblue',label='signal')\n",
    "plt.hist(back_bins[:-1], back_bins, weights=back_sf*bkgrnd, histtype='step',color='firebrick',label='background')\n",
    "\n",
    "plt.yscale('log')\n",
    "plt.xlabel('Prediction from NN',fontsize=12)\n",
    "plt.ylabel('Events',fontsize=12)\n",
    "plt.legend(frameon=False)\n",
    "plt.show()"
   ]
  },
  {
   "cell_type": "code",
   "execution_count": null,
   "metadata": {},
   "outputs": [],
   "source": [
    "# choose score cuts:\n",
    "cuts = np.linspace(0,1,500)\n",
    "nsignal = np.zeros(len(cuts))\n",
    "nbackground = np.zeros(len(cuts))\n",
    "\n",
    "for i,cut in enumerate(cuts):\n",
    "    nsignal[i] = len(np.where(prediction_score[y_test.astype(bool)] > cut)[0])\n",
    "    nbackground[i] = len(np.where(prediction_score[~(y_test.astype(bool))] > cut)[0])\n",
    "\n",
    "\n",
    "# plot efficiency vs. purity (ROC curve)\n",
    "plt.figure()\n",
    "plt.plot(nsignal/len(X_test[y_test.astype(bool) == 1]),nsignal/(nsignal + nbackground),'o-',color='blueviolet')\n",
    "# make the plot readable\n",
    "plt.xlabel('Efficiency',fontsize=12)\n",
    "plt.ylabel('Purity',fontsize=12)"
   ]
  },
  {
   "cell_type": "code",
   "execution_count": null,
   "metadata": {
    "pycharm": {
     "name": "#%%\n"
    }
   },
   "outputs": [],
   "source": [
    "# Zoom in view of the upper left corner.\n",
    "plt.figure()\n",
    "plt.xlim(0.85, 1.0)\n",
    "plt.ylim(0.85, 1.0)\n",
    "# plt.plot([0, 1], [0, 1], 'k--')\n",
    "plt.plot(nsignal/len(X_test[y_test.astype(bool) == 1]),nsignal/(nsignal + nbackground),'o-',color='blueviolet', markersize=1)\n",
    "plt.xlabel('Efficiency',fontsize=12)\n",
    "plt.ylabel('Purity',fontsize=12)\n",
    "plt.title('ROC curve (zoomed in at top right)')\n",
    "plt.show()"
   ]
  }
 ],
 "metadata": {
  "kernelspec": {
   "display_name": "Python 3 (ipykernel)",
   "language": "python",
   "name": "python3"
  },
  "language_info": {
   "codemirror_mode": {
    "name": "ipython",
    "version": 3
   },
   "file_extension": ".py",
   "mimetype": "text/x-python",
   "name": "python",
   "nbconvert_exporter": "python",
   "pygments_lexer": "ipython3",
   "version": "3.7.4"
  }
 },
 "nbformat": 4,
 "nbformat_minor": 1
}